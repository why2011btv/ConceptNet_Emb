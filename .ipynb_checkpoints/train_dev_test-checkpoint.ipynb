{
 "cells": [
  {
   "cell_type": "code",
   "execution_count": 3,
   "metadata": {},
   "outputs": [
    {
     "name": "stdout",
     "output_type": "stream",
     "text": [
      "<class 'numpy.ndarray'>\n",
      "[array([0., 1., 2.]), array([3., 4., 5.]), array([6., 7., 8.])]\n"
     ]
    }
   ],
   "source": [
    "import numpy as np\n",
    "x = np.arange(9.0)\n",
    "print(type(x))\n",
    "print(np.split(x, 3))\n"
   ]
  },
  {
   "cell_type": "code",
   "execution_count": 30,
   "metadata": {},
   "outputs": [],
   "source": [
    "import pandas as pd\n",
    "df = pd.read_csv('./R-GCN/data/ConceptNet/20190905_en.tsv',sep = ',', header = None, names=['ent1', 'ent2', 'rel'])\n",
    "df\n",
    "train, validate, test = np.split(df.sample(frac=1), [int(.6*len(df)), int(.8*len(df))])\n",
    "\n",
    "train.to_csv('./R-GCN/data/ConceptNet/train.txt', sep = '\t', header = None, index = False)\n",
    "validate.to_csv('./R-GCN/data/ConceptNet/valid.txt', sep = '\t', header = None, index = False)\n",
    "test.to_csv('./R-GCN/data/ConceptNet/test.txt', sep = '\t', header = None, index = False)"
   ]
  },
  {
   "cell_type": "code",
   "execution_count": 21,
   "metadata": {},
   "outputs": [
    {
     "data": {
      "text/html": [
       "<div>\n",
       "<style scoped>\n",
       "    .dataframe tbody tr th:only-of-type {\n",
       "        vertical-align: middle;\n",
       "    }\n",
       "\n",
       "    .dataframe tbody tr th {\n",
       "        vertical-align: top;\n",
       "    }\n",
       "\n",
       "    .dataframe thead th {\n",
       "        text-align: right;\n",
       "    }\n",
       "</style>\n",
       "<table border=\"1\" class=\"dataframe\">\n",
       "  <thead>\n",
       "    <tr style=\"text-align: right;\">\n",
       "      <th></th>\n",
       "      <th>ent1</th>\n",
       "      <th>ent2</th>\n",
       "      <th>rel</th>\n",
       "    </tr>\n",
       "  </thead>\n",
       "  <tbody>\n",
       "    <tr>\n",
       "      <th>0</th>\n",
       "      <td>0/n</td>\n",
       "      <td>1</td>\n",
       "      <td>Antonym</td>\n",
       "    </tr>\n",
       "    <tr>\n",
       "      <th>2</th>\n",
       "      <td>24_hour_clock</td>\n",
       "      <td>12_hour_clock</td>\n",
       "      <td>Antonym</td>\n",
       "    </tr>\n",
       "    <tr>\n",
       "      <th>9</th>\n",
       "      <td>ab_intra</td>\n",
       "      <td>ab_extra</td>\n",
       "      <td>Antonym</td>\n",
       "    </tr>\n",
       "    <tr>\n",
       "      <th>4</th>\n",
       "      <td>a.c</td>\n",
       "      <td>d.c</td>\n",
       "      <td>Antonym</td>\n",
       "    </tr>\n",
       "    <tr>\n",
       "      <th>7</th>\n",
       "      <td>a.m</td>\n",
       "      <td>pm</td>\n",
       "      <td>Antonym</td>\n",
       "    </tr>\n",
       "    <tr>\n",
       "      <th>8</th>\n",
       "      <td>ab_extra</td>\n",
       "      <td>ab_intra</td>\n",
       "      <td>Antonym</td>\n",
       "    </tr>\n",
       "  </tbody>\n",
       "</table>\n",
       "</div>"
      ],
      "text/plain": [
       "            ent1           ent2      rel\n",
       "0            0/n              1  Antonym\n",
       "2  24_hour_clock  12_hour_clock  Antonym\n",
       "9       ab_intra       ab_extra  Antonym\n",
       "4            a.c            d.c  Antonym\n",
       "7            a.m             pm  Antonym\n",
       "8       ab_extra       ab_intra  Antonym"
      ]
     },
     "execution_count": 21,
     "metadata": {},
     "output_type": "execute_result"
    }
   ],
   "source": []
  },
  {
   "cell_type": "code",
   "execution_count": 22,
   "metadata": {},
   "outputs": [
    {
     "data": {
      "text/plain": [
       "pandas.core.frame.DataFrame"
      ]
     },
     "execution_count": 22,
     "metadata": {},
     "output_type": "execute_result"
    }
   ],
   "source": []
  },
  {
   "cell_type": "code",
   "execution_count": 28,
   "metadata": {},
   "outputs": [],
   "source": []
  },
  {
   "cell_type": "code",
   "execution_count": null,
   "metadata": {},
   "outputs": [],
   "source": []
  }
 ],
 "metadata": {
  "kernelspec": {
   "display_name": "Python 3",
   "language": "python",
   "name": "python3"
  },
  "language_info": {
   "codemirror_mode": {
    "name": "ipython",
    "version": 3
   },
   "file_extension": ".py",
   "mimetype": "text/x-python",
   "name": "python",
   "nbconvert_exporter": "python",
   "pygments_lexer": "ipython3",
   "version": "3.6.5"
  }
 },
 "nbformat": 4,
 "nbformat_minor": 2
}
