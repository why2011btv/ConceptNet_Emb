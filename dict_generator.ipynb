{
 "cells": [
  {
   "cell_type": "code",
   "execution_count": 2,
   "metadata": {},
   "outputs": [],
   "source": [
    "#my_count = 0\n",
    "my_Ent_list = []\n",
    "my_Rel_list = []\n",
    "\n",
    "with open('./20190905_en.tsv', 'w') as f_Out:\n",
    "    with open('./en.tsv', 'r') as f:\n",
    "        line = f.readline()\n",
    "        #while line and my_count<10:\n",
    "        while line:\n",
    "            tmp_list = line.split('\t')\n",
    "            #print(tmp_list)\n",
    "            f_Out.write(tmp_list[0]+\",\")\n",
    "            f_Out.write(tmp_list[1]+\",\")\n",
    "            f_Out.write(tmp_list[2][:-1]+\"\\n\")\n",
    "            \n",
    "            my_Ent_list.append(tmp_list[0])\n",
    "            my_Ent_list.append(tmp_list[2][:-1])\n",
    "            \n",
    "            my_Rel_list.append(tmp_list[1])\n",
    "            \n",
    "            line = f.readline()\n",
    "            #my_count = my_count + 1\n",
    "            \n",
    "#with open('./20190905Out.tsv', 'r') as f_in:\n",
    "#print(my_list) \n",
    "\n",
    "Ent_List_set = set(my_Ent_list) #List_set是另外一个列表，里面的内容是List里面的无重复项 \n",
    "#print(Ent_List_set)\n",
    "\n",
    "with open('./20190905_Ent_ID.tsv', 'w') as f_Ent:\n",
    "    i = 0\n",
    "    for item in Ent_List_set:\n",
    "        f_Ent.write(str(i)+\"\t\")\n",
    "        f_Ent.write(item)\n",
    "        f_Ent.write(\"\\n\")\n",
    "        i = i + 1\n",
    "\n",
    "Rel_List_set = set(my_Rel_list)\n",
    "#print(type(Rel_List_set))\n",
    "\n",
    "with open('./20190905_Rel_ID.tsv', 'w') as f_Rel:\n",
    "    i = 0\n",
    "    for item in Rel_List_set:\n",
    "        f_Rel.write(str(i)+\"\t\")\n",
    "        f_Rel.write(item)\n",
    "        f_Rel.write(\"\\n\")\n",
    "        i = i + 1\n",
    "           "
   ]
  },
  {
   "cell_type": "code",
   "execution_count": null,
   "metadata": {},
   "outputs": [],
   "source": []
  }
 ],
 "metadata": {
  "kernelspec": {
   "display_name": "Python 3",
   "language": "python",
   "name": "python3"
  },
  "language_info": {
   "codemirror_mode": {
    "name": "ipython",
    "version": 3
   },
   "file_extension": ".py",
   "mimetype": "text/x-python",
   "name": "python",
   "nbconvert_exporter": "python",
   "pygments_lexer": "ipython3",
   "version": "3.6.5"
  }
 },
 "nbformat": 4,
 "nbformat_minor": 2
}
